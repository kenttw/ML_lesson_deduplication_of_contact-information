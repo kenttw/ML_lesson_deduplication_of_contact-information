{
 "cells": [
  {
   "cell_type": "markdown",
   "metadata": {},
   "source": [
    "# Basic Information\n",
    "* title: \"Deduplication of contact information\"\n",
    "* author: \"Kent Shih\"\n",
    "* date: \"14 10, 2019\""
   ]
  },
  {
   "cell_type": "markdown",
   "metadata": {},
   "source": [
    "# Data exploration\n",
    "* Some missing value \n",
    "* ??_equality is same as ??, so we remove those columns\n",
    "* the number of postive data and negatvie data are both balance\n",
    "* the values of columns have been standarization ? \n",
    "* the number of data is sufficent to build a hight complexity model such as deep learning\n"
   ]
  },
  {
   "cell_type": "code",
   "execution_count": 1,
   "metadata": {},
   "outputs": [],
   "source": [
    "EVA_SIZE = 2500"
   ]
  },
  {
   "cell_type": "code",
   "execution_count": 2,
   "metadata": {},
   "outputs": [],
   "source": [
    "import pandas as pd\n",
    "import numpy as np\n",
    "import matplotlib.pyplot as plt\n"
   ]
  },
  {
   "cell_type": "code",
   "execution_count": 3,
   "metadata": {},
   "outputs": [
    {
     "data": {
      "text/html": [
       "<div>\n",
       "<style scoped>\n",
       "    .dataframe tbody tr th:only-of-type {\n",
       "        vertical-align: middle;\n",
       "    }\n",
       "\n",
       "    .dataframe tbody tr th {\n",
       "        vertical-align: top;\n",
       "    }\n",
       "\n",
       "    .dataframe thead th {\n",
       "        text-align: right;\n",
       "    }\n",
       "</style>\n",
       "<table border=\"1\" class=\"dataframe\">\n",
       "  <thead>\n",
       "    <tr style=\"text-align: right;\">\n",
       "      <th></th>\n",
       "      <th>id</th>\n",
       "      <th>name_levenshtein_simple</th>\n",
       "      <th>name_trigram_simple</th>\n",
       "      <th>name_levenshtein_term</th>\n",
       "      <th>name_trigram_term</th>\n",
       "      <th>city_levenshtein_simple</th>\n",
       "      <th>city_trigram_simple</th>\n",
       "      <th>city_levenshtein_term</th>\n",
       "      <th>city_trigram_term</th>\n",
       "      <th>zip_levenshtein_simple</th>\n",
       "      <th>...</th>\n",
       "      <th>phone_levenshtein</th>\n",
       "      <th>phone_trigram</th>\n",
       "      <th>fax_levenshtein</th>\n",
       "      <th>fax_trigram</th>\n",
       "      <th>street_number_levenshtein</th>\n",
       "      <th>street_number_trigram</th>\n",
       "      <th>phone_equality</th>\n",
       "      <th>fax_equality</th>\n",
       "      <th>street_number_equality</th>\n",
       "      <th>is_match</th>\n",
       "    </tr>\n",
       "  </thead>\n",
       "  <tbody>\n",
       "    <tr>\n",
       "      <td>20609</td>\n",
       "      <td>2465#2478</td>\n",
       "      <td>1.000000</td>\n",
       "      <td>1.000000</td>\n",
       "      <td>1.000000</td>\n",
       "      <td>1.000000</td>\n",
       "      <td>0.666667</td>\n",
       "      <td>0.666667</td>\n",
       "      <td>0.454545</td>\n",
       "      <td>0.5</td>\n",
       "      <td>1</td>\n",
       "      <td>...</td>\n",
       "      <td>?</td>\n",
       "      <td>?</td>\n",
       "      <td>?</td>\n",
       "      <td>?</td>\n",
       "      <td>1.0</td>\n",
       "      <td>1.0</td>\n",
       "      <td>m</td>\n",
       "      <td>m</td>\n",
       "      <td>s</td>\n",
       "      <td>1</td>\n",
       "    </tr>\n",
       "    <tr>\n",
       "      <td>144</td>\n",
       "      <td>702#703</td>\n",
       "      <td>0.545455</td>\n",
       "      <td>0.545455</td>\n",
       "      <td>0.377778</td>\n",
       "      <td>0.409091</td>\n",
       "      <td>?</td>\n",
       "      <td>?</td>\n",
       "      <td>?</td>\n",
       "      <td>?</td>\n",
       "      <td>?</td>\n",
       "      <td>...</td>\n",
       "      <td>?</td>\n",
       "      <td>?</td>\n",
       "      <td>?</td>\n",
       "      <td>?</td>\n",
       "      <td>1.0</td>\n",
       "      <td>1.0</td>\n",
       "      <td>m</td>\n",
       "      <td>m</td>\n",
       "      <td>s</td>\n",
       "      <td>1</td>\n",
       "    </tr>\n",
       "    <tr>\n",
       "      <td>21440</td>\n",
       "      <td>2097#2064</td>\n",
       "      <td>1.000000</td>\n",
       "      <td>1.000000</td>\n",
       "      <td>1.000000</td>\n",
       "      <td>1.000000</td>\n",
       "      <td>?</td>\n",
       "      <td>?</td>\n",
       "      <td>?</td>\n",
       "      <td>?</td>\n",
       "      <td>?</td>\n",
       "      <td>...</td>\n",
       "      <td>1.0</td>\n",
       "      <td>1.0</td>\n",
       "      <td>?</td>\n",
       "      <td>?</td>\n",
       "      <td>0.75</td>\n",
       "      <td>0.428571432829</td>\n",
       "      <td>s</td>\n",
       "      <td>m</td>\n",
       "      <td>n</td>\n",
       "      <td>1</td>\n",
       "    </tr>\n",
       "    <tr>\n",
       "      <td>19279</td>\n",
       "      <td>8258#8263</td>\n",
       "      <td>0.080808</td>\n",
       "      <td>0.011111</td>\n",
       "      <td>0.088235</td>\n",
       "      <td>0.021739</td>\n",
       "      <td>?</td>\n",
       "      <td>?</td>\n",
       "      <td>?</td>\n",
       "      <td>?</td>\n",
       "      <td>?</td>\n",
       "      <td>...</td>\n",
       "      <td>?</td>\n",
       "      <td>?</td>\n",
       "      <td>?</td>\n",
       "      <td>?</td>\n",
       "      <td>?</td>\n",
       "      <td>?</td>\n",
       "      <td>m</td>\n",
       "      <td>m</td>\n",
       "      <td>n</td>\n",
       "      <td>-1</td>\n",
       "    </tr>\n",
       "    <tr>\n",
       "      <td>7813</td>\n",
       "      <td>6549#6550</td>\n",
       "      <td>0.222857</td>\n",
       "      <td>0.000000</td>\n",
       "      <td>0.153846</td>\n",
       "      <td>0.000000</td>\n",
       "      <td>1</td>\n",
       "      <td>1</td>\n",
       "      <td>1</td>\n",
       "      <td>1</td>\n",
       "      <td>?</td>\n",
       "      <td>...</td>\n",
       "      <td>1.0</td>\n",
       "      <td>1.0</td>\n",
       "      <td>?</td>\n",
       "      <td>?</td>\n",
       "      <td>?</td>\n",
       "      <td>?</td>\n",
       "      <td>s</td>\n",
       "      <td>m</td>\n",
       "      <td>n</td>\n",
       "      <td>1</td>\n",
       "    </tr>\n",
       "    <tr>\n",
       "      <td>10955</td>\n",
       "      <td>2177#2183</td>\n",
       "      <td>1.000000</td>\n",
       "      <td>1.000000</td>\n",
       "      <td>1.000000</td>\n",
       "      <td>1.000000</td>\n",
       "      <td>1</td>\n",
       "      <td>1</td>\n",
       "      <td>1</td>\n",
       "      <td>1</td>\n",
       "      <td>?</td>\n",
       "      <td>...</td>\n",
       "      <td>1.0</td>\n",
       "      <td>1.0</td>\n",
       "      <td>?</td>\n",
       "      <td>?</td>\n",
       "      <td>1.0</td>\n",
       "      <td>1.0</td>\n",
       "      <td>s</td>\n",
       "      <td>m</td>\n",
       "      <td>s</td>\n",
       "      <td>1</td>\n",
       "    </tr>\n",
       "    <tr>\n",
       "      <td>17289</td>\n",
       "      <td>2260#2257</td>\n",
       "      <td>0.977273</td>\n",
       "      <td>0.910714</td>\n",
       "      <td>0.954545</td>\n",
       "      <td>0.800000</td>\n",
       "      <td>?</td>\n",
       "      <td>?</td>\n",
       "      <td>?</td>\n",
       "      <td>?</td>\n",
       "      <td>?</td>\n",
       "      <td>...</td>\n",
       "      <td>1.0</td>\n",
       "      <td>1.0</td>\n",
       "      <td>?</td>\n",
       "      <td>?</td>\n",
       "      <td>1.0</td>\n",
       "      <td>1.0</td>\n",
       "      <td>s</td>\n",
       "      <td>m</td>\n",
       "      <td>s</td>\n",
       "      <td>1</td>\n",
       "    </tr>\n",
       "    <tr>\n",
       "      <td>5192</td>\n",
       "      <td>1177#1184</td>\n",
       "      <td>0.693452</td>\n",
       "      <td>0.566667</td>\n",
       "      <td>0.695652</td>\n",
       "      <td>0.592593</td>\n",
       "      <td>?</td>\n",
       "      <td>?</td>\n",
       "      <td>?</td>\n",
       "      <td>?</td>\n",
       "      <td>?</td>\n",
       "      <td>...</td>\n",
       "      <td>?</td>\n",
       "      <td>?</td>\n",
       "      <td>?</td>\n",
       "      <td>?</td>\n",
       "      <td>1.0</td>\n",
       "      <td>1.0</td>\n",
       "      <td>m</td>\n",
       "      <td>m</td>\n",
       "      <td>s</td>\n",
       "      <td>1</td>\n",
       "    </tr>\n",
       "    <tr>\n",
       "      <td>12172</td>\n",
       "      <td>137#138</td>\n",
       "      <td>1.000000</td>\n",
       "      <td>1.000000</td>\n",
       "      <td>1.000000</td>\n",
       "      <td>1.000000</td>\n",
       "      <td>?</td>\n",
       "      <td>?</td>\n",
       "      <td>?</td>\n",
       "      <td>?</td>\n",
       "      <td>?</td>\n",
       "      <td>...</td>\n",
       "      <td>1.0</td>\n",
       "      <td>1.0</td>\n",
       "      <td>?</td>\n",
       "      <td>?</td>\n",
       "      <td>0.5</td>\n",
       "      <td>0.285714298487</td>\n",
       "      <td>s</td>\n",
       "      <td>m</td>\n",
       "      <td>n</td>\n",
       "      <td>1</td>\n",
       "    </tr>\n",
       "    <tr>\n",
       "      <td>235</td>\n",
       "      <td>8175#8181</td>\n",
       "      <td>0.183838</td>\n",
       "      <td>0.033333</td>\n",
       "      <td>0.117647</td>\n",
       "      <td>0.030303</td>\n",
       "      <td>?</td>\n",
       "      <td>?</td>\n",
       "      <td>?</td>\n",
       "      <td>?</td>\n",
       "      <td>?</td>\n",
       "      <td>...</td>\n",
       "      <td>?</td>\n",
       "      <td>?</td>\n",
       "      <td>?</td>\n",
       "      <td>?</td>\n",
       "      <td>0.5</td>\n",
       "      <td>0.25</td>\n",
       "      <td>m</td>\n",
       "      <td>m</td>\n",
       "      <td>n</td>\n",
       "      <td>-1</td>\n",
       "    </tr>\n",
       "  </tbody>\n",
       "</table>\n",
       "<p>10 rows × 31 columns</p>\n",
       "</div>"
      ],
      "text/plain": [
       "              id  name_levenshtein_simple  name_trigram_simple  \\\n",
       "20609  2465#2478                 1.000000             1.000000   \n",
       "144      702#703                 0.545455             0.545455   \n",
       "21440  2097#2064                 1.000000             1.000000   \n",
       "19279  8258#8263                 0.080808             0.011111   \n",
       "7813   6549#6550                 0.222857             0.000000   \n",
       "10955  2177#2183                 1.000000             1.000000   \n",
       "17289  2260#2257                 0.977273             0.910714   \n",
       "5192   1177#1184                 0.693452             0.566667   \n",
       "12172    137#138                 1.000000             1.000000   \n",
       "235    8175#8181                 0.183838             0.033333   \n",
       "\n",
       "       name_levenshtein_term  name_trigram_term city_levenshtein_simple  \\\n",
       "20609               1.000000           1.000000                0.666667   \n",
       "144                 0.377778           0.409091                       ?   \n",
       "21440               1.000000           1.000000                       ?   \n",
       "19279               0.088235           0.021739                       ?   \n",
       "7813                0.153846           0.000000                       1   \n",
       "10955               1.000000           1.000000                       1   \n",
       "17289               0.954545           0.800000                       ?   \n",
       "5192                0.695652           0.592593                       ?   \n",
       "12172               1.000000           1.000000                       ?   \n",
       "235                 0.117647           0.030303                       ?   \n",
       "\n",
       "      city_trigram_simple city_levenshtein_term city_trigram_term  \\\n",
       "20609            0.666667              0.454545               0.5   \n",
       "144                     ?                     ?                 ?   \n",
       "21440                   ?                     ?                 ?   \n",
       "19279                   ?                     ?                 ?   \n",
       "7813                    1                     1                 1   \n",
       "10955                   1                     1                 1   \n",
       "17289                   ?                     ?                 ?   \n",
       "5192                    ?                     ?                 ?   \n",
       "12172                   ?                     ?                 ?   \n",
       "235                     ?                     ?                 ?   \n",
       "\n",
       "      zip_levenshtein_simple  ... phone_levenshtein phone_trigram  \\\n",
       "20609                      1  ...                 ?             ?   \n",
       "144                        ?  ...                 ?             ?   \n",
       "21440                      ?  ...               1.0           1.0   \n",
       "19279                      ?  ...                 ?             ?   \n",
       "7813                       ?  ...               1.0           1.0   \n",
       "10955                      ?  ...               1.0           1.0   \n",
       "17289                      ?  ...               1.0           1.0   \n",
       "5192                       ?  ...                 ?             ?   \n",
       "12172                      ?  ...               1.0           1.0   \n",
       "235                        ?  ...                 ?             ?   \n",
       "\n",
       "      fax_levenshtein fax_trigram street_number_levenshtein  \\\n",
       "20609               ?           ?                       1.0   \n",
       "144                 ?           ?                       1.0   \n",
       "21440               ?           ?                      0.75   \n",
       "19279               ?           ?                         ?   \n",
       "7813                ?           ?                         ?   \n",
       "10955               ?           ?                       1.0   \n",
       "17289               ?           ?                       1.0   \n",
       "5192                ?           ?                       1.0   \n",
       "12172               ?           ?                       0.5   \n",
       "235                 ?           ?                       0.5   \n",
       "\n",
       "      street_number_trigram phone_equality fax_equality  \\\n",
       "20609                   1.0              m            m   \n",
       "144                     1.0              m            m   \n",
       "21440        0.428571432829              s            m   \n",
       "19279                     ?              m            m   \n",
       "7813                      ?              s            m   \n",
       "10955                   1.0              s            m   \n",
       "17289                   1.0              s            m   \n",
       "5192                    1.0              m            m   \n",
       "12172        0.285714298487              s            m   \n",
       "235                    0.25              m            m   \n",
       "\n",
       "      street_number_equality is_match  \n",
       "20609                      s        1  \n",
       "144                        s        1  \n",
       "21440                      n        1  \n",
       "19279                      n       -1  \n",
       "7813                       n        1  \n",
       "10955                      s        1  \n",
       "17289                      s        1  \n",
       "5192                       s        1  \n",
       "12172                      n        1  \n",
       "235                        n       -1  \n",
       "\n",
       "[10 rows x 31 columns]"
      ]
     },
     "execution_count": 3,
     "metadata": {},
     "output_type": "execute_result"
    }
   ],
   "source": [
    "# read from row data and do suffle \n",
    "data_df = pd.read_csv(\"./address_matching_data.csv\").sample(frac=1,random_state=1)\n",
    "data_df[-10:]"
   ]
  },
  {
   "cell_type": "code",
   "execution_count": 4,
   "metadata": {},
   "outputs": [
    {
     "data": {
      "text/html": [
       "<div>\n",
       "<style scoped>\n",
       "    .dataframe tbody tr th:only-of-type {\n",
       "        vertical-align: middle;\n",
       "    }\n",
       "\n",
       "    .dataframe tbody tr th {\n",
       "        vertical-align: top;\n",
       "    }\n",
       "\n",
       "    .dataframe thead th {\n",
       "        text-align: right;\n",
       "    }\n",
       "</style>\n",
       "<table border=\"1\" class=\"dataframe\">\n",
       "  <thead>\n",
       "    <tr style=\"text-align: right;\">\n",
       "      <th></th>\n",
       "      <th>id</th>\n",
       "      <th>name_levenshtein_simple</th>\n",
       "      <th>name_trigram_simple</th>\n",
       "      <th>name_levenshtein_term</th>\n",
       "      <th>name_trigram_term</th>\n",
       "      <th>city_levenshtein_simple</th>\n",
       "      <th>city_trigram_simple</th>\n",
       "      <th>city_levenshtein_term</th>\n",
       "      <th>city_trigram_term</th>\n",
       "      <th>zip_levenshtein_simple</th>\n",
       "      <th>...</th>\n",
       "      <th>website_trigram_term</th>\n",
       "      <th>phone_levenshtein</th>\n",
       "      <th>phone_trigram</th>\n",
       "      <th>fax_levenshtein</th>\n",
       "      <th>fax_trigram</th>\n",
       "      <th>street_number_levenshtein</th>\n",
       "      <th>street_number_trigram</th>\n",
       "      <th>phone_equality</th>\n",
       "      <th>fax_equality</th>\n",
       "      <th>street_number_equality</th>\n",
       "    </tr>\n",
       "  </thead>\n",
       "  <tbody>\n",
       "    <tr>\n",
       "      <td>0</td>\n",
       "      <td>7221#7218</td>\n",
       "      <td>0.703704</td>\n",
       "      <td>0.666667</td>\n",
       "      <td>0.680000</td>\n",
       "      <td>0.533333</td>\n",
       "      <td>1</td>\n",
       "      <td>1</td>\n",
       "      <td>1</td>\n",
       "      <td>1</td>\n",
       "      <td>1</td>\n",
       "      <td>...</td>\n",
       "      <td>?</td>\n",
       "      <td>1.0</td>\n",
       "      <td>1.0</td>\n",
       "      <td>?</td>\n",
       "      <td>?</td>\n",
       "      <td>1.0</td>\n",
       "      <td>1.0</td>\n",
       "      <td>s</td>\n",
       "      <td>m</td>\n",
       "      <td>s</td>\n",
       "    </tr>\n",
       "    <tr>\n",
       "      <td>1</td>\n",
       "      <td>2393#2398</td>\n",
       "      <td>1.000000</td>\n",
       "      <td>1.000000</td>\n",
       "      <td>0.520000</td>\n",
       "      <td>1.000000</td>\n",
       "      <td>0.666667</td>\n",
       "      <td>0.666667</td>\n",
       "      <td>0.454545</td>\n",
       "      <td>0.5</td>\n",
       "      <td>1</td>\n",
       "      <td>...</td>\n",
       "      <td>?</td>\n",
       "      <td>?</td>\n",
       "      <td>?</td>\n",
       "      <td>?</td>\n",
       "      <td>?</td>\n",
       "      <td>1.0</td>\n",
       "      <td>1.0</td>\n",
       "      <td>m</td>\n",
       "      <td>m</td>\n",
       "      <td>s</td>\n",
       "    </tr>\n",
       "    <tr>\n",
       "      <td>2</td>\n",
       "      <td>2509#2510</td>\n",
       "      <td>1.000000</td>\n",
       "      <td>1.000000</td>\n",
       "      <td>1.000000</td>\n",
       "      <td>1.000000</td>\n",
       "      <td>?</td>\n",
       "      <td>?</td>\n",
       "      <td>?</td>\n",
       "      <td>?</td>\n",
       "      <td>?</td>\n",
       "      <td>...</td>\n",
       "      <td>?</td>\n",
       "      <td>1.0</td>\n",
       "      <td>1.0</td>\n",
       "      <td>?</td>\n",
       "      <td>?</td>\n",
       "      <td>?</td>\n",
       "      <td>?</td>\n",
       "      <td>s</td>\n",
       "      <td>m</td>\n",
       "      <td>n</td>\n",
       "    </tr>\n",
       "    <tr>\n",
       "      <td>3</td>\n",
       "      <td>3695#3700</td>\n",
       "      <td>0.111310</td>\n",
       "      <td>0.000000</td>\n",
       "      <td>0.095238</td>\n",
       "      <td>0.000000</td>\n",
       "      <td>1</td>\n",
       "      <td>1</td>\n",
       "      <td>1</td>\n",
       "      <td>1</td>\n",
       "      <td>0.8</td>\n",
       "      <td>...</td>\n",
       "      <td>?</td>\n",
       "      <td>?</td>\n",
       "      <td>?</td>\n",
       "      <td>?</td>\n",
       "      <td>?</td>\n",
       "      <td>?</td>\n",
       "      <td>?</td>\n",
       "      <td>m</td>\n",
       "      <td>m</td>\n",
       "      <td>n</td>\n",
       "    </tr>\n",
       "    <tr>\n",
       "      <td>4</td>\n",
       "      <td>15918#15955</td>\n",
       "      <td>0.175000</td>\n",
       "      <td>0.074074</td>\n",
       "      <td>0.153846</td>\n",
       "      <td>0.095238</td>\n",
       "      <td>1</td>\n",
       "      <td>1</td>\n",
       "      <td>1</td>\n",
       "      <td>1</td>\n",
       "      <td>1</td>\n",
       "      <td>...</td>\n",
       "      <td>?</td>\n",
       "      <td>?</td>\n",
       "      <td>?</td>\n",
       "      <td>?</td>\n",
       "      <td>?</td>\n",
       "      <td>?</td>\n",
       "      <td>?</td>\n",
       "      <td>m</td>\n",
       "      <td>m</td>\n",
       "      <td>n</td>\n",
       "    </tr>\n",
       "  </tbody>\n",
       "</table>\n",
       "<p>5 rows × 30 columns</p>\n",
       "</div>"
      ],
      "text/plain": [
       "            id  name_levenshtein_simple  name_trigram_simple  \\\n",
       "0    7221#7218                 0.703704             0.666667   \n",
       "1    2393#2398                 1.000000             1.000000   \n",
       "2    2509#2510                 1.000000             1.000000   \n",
       "3    3695#3700                 0.111310             0.000000   \n",
       "4  15918#15955                 0.175000             0.074074   \n",
       "\n",
       "   name_levenshtein_term  name_trigram_term city_levenshtein_simple  \\\n",
       "0               0.680000           0.533333                       1   \n",
       "1               0.520000           1.000000                0.666667   \n",
       "2               1.000000           1.000000                       ?   \n",
       "3               0.095238           0.000000                       1   \n",
       "4               0.153846           0.095238                       1   \n",
       "\n",
       "  city_trigram_simple city_levenshtein_term city_trigram_term  \\\n",
       "0                   1                     1                 1   \n",
       "1            0.666667              0.454545               0.5   \n",
       "2                   ?                     ?                 ?   \n",
       "3                   1                     1                 1   \n",
       "4                   1                     1                 1   \n",
       "\n",
       "  zip_levenshtein_simple  ... website_trigram_term phone_levenshtein  \\\n",
       "0                      1  ...                    ?               1.0   \n",
       "1                      1  ...                    ?                 ?   \n",
       "2                      ?  ...                    ?               1.0   \n",
       "3                    0.8  ...                    ?                 ?   \n",
       "4                      1  ...                    ?                 ?   \n",
       "\n",
       "  phone_trigram fax_levenshtein fax_trigram street_number_levenshtein  \\\n",
       "0           1.0               ?           ?                       1.0   \n",
       "1             ?               ?           ?                       1.0   \n",
       "2           1.0               ?           ?                         ?   \n",
       "3             ?               ?           ?                         ?   \n",
       "4             ?               ?           ?                         ?   \n",
       "\n",
       "  street_number_trigram phone_equality fax_equality street_number_equality  \n",
       "0                   1.0              s            m                      s  \n",
       "1                   1.0              m            m                      s  \n",
       "2                     ?              s            m                      n  \n",
       "3                     ?              m            m                      n  \n",
       "4                     ?              m            m                      n  \n",
       "\n",
       "[5 rows x 30 columns]"
      ]
     },
     "execution_count": 4,
     "metadata": {},
     "output_type": "execute_result"
    }
   ],
   "source": [
    "test_df = pd.read_csv(\"./address_matching_test.csv\")\n",
    "test_df.head()"
   ]
  },
  {
   "cell_type": "code",
   "execution_count": 5,
   "metadata": {},
   "outputs": [
    {
     "data": {
      "text/html": [
       "<div>\n",
       "<style scoped>\n",
       "    .dataframe tbody tr th:only-of-type {\n",
       "        vertical-align: middle;\n",
       "    }\n",
       "\n",
       "    .dataframe tbody tr th {\n",
       "        vertical-align: top;\n",
       "    }\n",
       "\n",
       "    .dataframe thead th {\n",
       "        text-align: right;\n",
       "    }\n",
       "</style>\n",
       "<table border=\"1\" class=\"dataframe\">\n",
       "  <thead>\n",
       "    <tr style=\"text-align: right;\">\n",
       "      <th></th>\n",
       "      <th>name_levenshtein_simple</th>\n",
       "      <th>name_trigram_simple</th>\n",
       "      <th>name_levenshtein_term</th>\n",
       "      <th>name_trigram_term</th>\n",
       "      <th>is_match</th>\n",
       "    </tr>\n",
       "  </thead>\n",
       "  <tbody>\n",
       "    <tr>\n",
       "      <td>count</td>\n",
       "      <td>28235.000000</td>\n",
       "      <td>28235.000000</td>\n",
       "      <td>28235.000000</td>\n",
       "      <td>28235.000000</td>\n",
       "      <td>28235.00000</td>\n",
       "    </tr>\n",
       "    <tr>\n",
       "      <td>mean</td>\n",
       "      <td>0.628171</td>\n",
       "      <td>0.563277</td>\n",
       "      <td>0.537006</td>\n",
       "      <td>0.509530</td>\n",
       "      <td>0.43524</td>\n",
       "    </tr>\n",
       "    <tr>\n",
       "      <td>std</td>\n",
       "      <td>0.304767</td>\n",
       "      <td>0.369004</td>\n",
       "      <td>0.324820</td>\n",
       "      <td>0.372265</td>\n",
       "      <td>0.90033</td>\n",
       "    </tr>\n",
       "    <tr>\n",
       "      <td>min</td>\n",
       "      <td>0.000000</td>\n",
       "      <td>0.000000</td>\n",
       "      <td>0.000000</td>\n",
       "      <td>0.000000</td>\n",
       "      <td>-1.00000</td>\n",
       "    </tr>\n",
       "    <tr>\n",
       "      <td>25%</td>\n",
       "      <td>0.363387</td>\n",
       "      <td>0.222222</td>\n",
       "      <td>0.243243</td>\n",
       "      <td>0.142857</td>\n",
       "      <td>-1.00000</td>\n",
       "    </tr>\n",
       "    <tr>\n",
       "      <td>50%</td>\n",
       "      <td>0.666667</td>\n",
       "      <td>0.666667</td>\n",
       "      <td>0.476190</td>\n",
       "      <td>0.483871</td>\n",
       "      <td>1.00000</td>\n",
       "    </tr>\n",
       "    <tr>\n",
       "      <td>75%</td>\n",
       "      <td>1.000000</td>\n",
       "      <td>1.000000</td>\n",
       "      <td>0.875000</td>\n",
       "      <td>1.000000</td>\n",
       "      <td>1.00000</td>\n",
       "    </tr>\n",
       "    <tr>\n",
       "      <td>max</td>\n",
       "      <td>1.000000</td>\n",
       "      <td>1.000000</td>\n",
       "      <td>1.000000</td>\n",
       "      <td>1.000000</td>\n",
       "      <td>1.00000</td>\n",
       "    </tr>\n",
       "  </tbody>\n",
       "</table>\n",
       "</div>"
      ],
      "text/plain": [
       "       name_levenshtein_simple  name_trigram_simple  name_levenshtein_term  \\\n",
       "count             28235.000000         28235.000000           28235.000000   \n",
       "mean                  0.628171             0.563277               0.537006   \n",
       "std                   0.304767             0.369004               0.324820   \n",
       "min                   0.000000             0.000000               0.000000   \n",
       "25%                   0.363387             0.222222               0.243243   \n",
       "50%                   0.666667             0.666667               0.476190   \n",
       "75%                   1.000000             1.000000               0.875000   \n",
       "max                   1.000000             1.000000               1.000000   \n",
       "\n",
       "       name_trigram_term     is_match  \n",
       "count       28235.000000  28235.00000  \n",
       "mean            0.509530      0.43524  \n",
       "std             0.372265      0.90033  \n",
       "min             0.000000     -1.00000  \n",
       "25%             0.142857     -1.00000  \n",
       "50%             0.483871      1.00000  \n",
       "75%             1.000000      1.00000  \n",
       "max             1.000000      1.00000  "
      ]
     },
     "execution_count": 5,
     "metadata": {},
     "output_type": "execute_result"
    }
   ],
   "source": [
    "# 超過一半是 Match 的\n",
    "data_df.describe()"
   ]
  },
  {
   "cell_type": "code",
   "execution_count": 6,
   "metadata": {},
   "outputs": [
    {
     "name": "stdout",
     "output_type": "stream",
     "text": [
      "id 0.0\n",
      "name_levenshtein_simple 0.0\n",
      "name_trigram_simple 0.0\n",
      "name_levenshtein_term 0.0\n",
      "name_trigram_term 0.0\n",
      "city_levenshtein_simple 0.64\n",
      "city_trigram_simple 0.64\n",
      "city_levenshtein_term 0.64\n",
      "city_trigram_term 0.64\n",
      "zip_levenshtein_simple 0.72\n",
      "zip_trigram_simple 0.72\n",
      "zip_levenshtein_term 0.72\n",
      "zip_trigram_term 0.72\n",
      "street_levenshtein_simple 0.70\n",
      "street_trigram_simple 0.70\n",
      "street_levenshtein_term 0.70\n",
      "street_trigram_term 0.70\n",
      "website_levenshtein_simple 0.93\n",
      "website_trigram_simple 0.93\n",
      "website_levenshtein_term 0.93\n",
      "website_trigram_term 0.93\n",
      "phone_levenshtein 0.57\n",
      "phone_trigram 0.57\n",
      "fax_levenshtein 0.97\n",
      "fax_trigram 0.97\n",
      "street_number_levenshtein 0.34\n",
      "street_number_trigram 0.34\n",
      "phone_equality 0.0\n",
      "fax_equality 0.0\n",
      "street_number_equality 0.0\n",
      "is_match 0.0\n"
     ]
    },
    {
     "name": "stderr",
     "output_type": "stream",
     "text": [
      "/Library/Frameworks/Python.framework/Versions/3.7/lib/python3.7/site-packages/pandas/core/ops/__init__.py:1115: FutureWarning: elementwise comparison failed; returning scalar instead, but in the future will perform elementwise comparison\n",
      "  result = method(y)\n"
     ]
    }
   ],
   "source": [
    "# miss value rate\n",
    "for c in data_df.columns:\n",
    "    print(c,str(sum(data_df[c]=='?')/28235)[:4])"
   ]
  },
  {
   "cell_type": "code",
   "execution_count": 7,
   "metadata": {},
   "outputs": [
    {
     "name": "stdout",
     "output_type": "stream",
     "text": [
      "del phone_equality\n",
      "del fax_equality\n",
      "del street_number_equality\n"
     ]
    }
   ],
   "source": [
    "for c in data_df.columns:\n",
    "    if 'equality' in c : \n",
    "        print(\"del\",c)\n",
    "        del data_df[c]"
   ]
  },
  {
   "cell_type": "code",
   "execution_count": 8,
   "metadata": {
    "code_folding": []
   },
   "outputs": [
    {
     "name": "stdout",
     "output_type": "stream",
     "text": [
      "id 0.0\n",
      "name_levenshtein_simple 0.0\n",
      "name_trigram_simple 0.0\n",
      "name_levenshtein_term 0.0\n",
      "name_trigram_term 0.0\n",
      "city_levenshtein_simple 0.0\n",
      "city_trigram_simple 0.0\n",
      "city_levenshtein_term 0.0\n",
      "city_trigram_term 0.0\n",
      "zip_levenshtein_simple 0.0\n",
      "zip_trigram_simple 0.0\n",
      "zip_levenshtein_term 0.0\n",
      "zip_trigram_term 0.0\n",
      "street_levenshtein_simple 0.0\n",
      "street_trigram_simple 0.0\n",
      "street_levenshtein_term 0.0\n",
      "street_trigram_term 0.0\n",
      "website_levenshtein_simple 0.0\n",
      "website_trigram_simple 0.0\n",
      "website_levenshtein_term 0.0\n",
      "website_trigram_term 0.0\n",
      "phone_levenshtein 0.0\n",
      "phone_trigram 0.0\n",
      "fax_levenshtein 0.0\n",
      "fax_trigram 0.0\n",
      "street_number_levenshtein 0.0\n",
      "street_number_trigram 0.0\n",
      "is_match 0.0\n"
     ]
    }
   ],
   "source": [
    "new_data_df = data_df.replace(\"?\",-1)\n",
    "\n",
    "for c in new_data_df.columns:\n",
    "    print(c,str(sum(new_data_df[c]=='?')/28235)[:4])"
   ]
  },
  {
   "cell_type": "markdown",
   "metadata": {},
   "source": [
    "# Modeling approach\n",
    "* becasue we have a lot of labeled data so we could try to use a heavy model , such as deep learning\n",
    "* but overfitting issue , we just use 3 layer and add dropout layer between each hidden layer\n",
    "* the performnace is prety good"
   ]
  },
  {
   "cell_type": "code",
   "execution_count": 9,
   "metadata": {},
   "outputs": [
    {
     "name": "stderr",
     "output_type": "stream",
     "text": [
      "Using TensorFlow backend.\n"
     ]
    }
   ],
   "source": [
    "import keras"
   ]
  },
  {
   "cell_type": "code",
   "execution_count": 10,
   "metadata": {},
   "outputs": [],
   "source": [
    "id_list = new_data_df['id'].tolist()\n",
    "del new_data_df['id']\n",
    "match_list = new_data_df['is_match'].tolist()\n",
    "del new_data_df['is_match']\n"
   ]
  },
  {
   "cell_type": "code",
   "execution_count": 11,
   "metadata": {},
   "outputs": [],
   "source": [
    "new_match_list = []\n",
    "for v in  match_list:\n",
    "    if v == 1 : new_match_list.append(1)\n",
    "    else: new_match_list.append(0)"
   ]
  },
  {
   "cell_type": "code",
   "execution_count": 12,
   "metadata": {},
   "outputs": [],
   "source": [
    "raw_data = new_data_df.to_numpy()"
   ]
  },
  {
   "cell_type": "code",
   "execution_count": 13,
   "metadata": {},
   "outputs": [
    {
     "data": {
      "text/plain": [
       "(28235, 26)"
      ]
     },
     "execution_count": 13,
     "metadata": {},
     "output_type": "execute_result"
    }
   ],
   "source": [
    "raw_data.shape"
   ]
  },
  {
   "cell_type": "markdown",
   "metadata": {},
   "source": [
    "## model graph"
   ]
  },
  {
   "cell_type": "code",
   "execution_count": 14,
   "metadata": {},
   "outputs": [],
   "source": [
    "from sklearn.ensemble import RandomForestClassifier,GradientBoostingClassifier\n",
    "\n",
    "tree_model = RandomForestClassifier()"
   ]
  },
  {
   "cell_type": "markdown",
   "metadata": {},
   "source": [
    "## data preparation"
   ]
  },
  {
   "cell_type": "code",
   "execution_count": 15,
   "metadata": {},
   "outputs": [],
   "source": [
    "y_train=keras.utils.to_categorical(new_match_list[:-EVA_SIZE])\n"
   ]
  },
  {
   "cell_type": "code",
   "execution_count": 16,
   "metadata": {},
   "outputs": [],
   "source": [
    "X_train = raw_data[:-EVA_SIZE]"
   ]
  },
  {
   "cell_type": "code",
   "execution_count": 17,
   "metadata": {},
   "outputs": [
    {
     "name": "stderr",
     "output_type": "stream",
     "text": [
      "/Library/Frameworks/Python.framework/Versions/3.7/lib/python3.7/site-packages/sklearn/ensemble/forest.py:245: FutureWarning: The default value of n_estimators will change from 10 in version 0.20 to 100 in 0.22.\n",
      "  \"10 in version 0.20 to 100 in 0.22.\", FutureWarning)\n"
     ]
    },
    {
     "data": {
      "text/plain": [
       "RandomForestClassifier(bootstrap=True, class_weight=None, criterion='gini',\n",
       "                       max_depth=None, max_features='auto', max_leaf_nodes=None,\n",
       "                       min_impurity_decrease=0.0, min_impurity_split=None,\n",
       "                       min_samples_leaf=1, min_samples_split=2,\n",
       "                       min_weight_fraction_leaf=0.0, n_estimators=10,\n",
       "                       n_jobs=None, oob_score=False, random_state=None,\n",
       "                       verbose=0, warm_start=False)"
      ]
     },
     "execution_count": 17,
     "metadata": {},
     "output_type": "execute_result"
    }
   ],
   "source": [
    "## train logistic regression\n",
    "tree_model.fit(X_train,y_train[:,1])"
   ]
  },
  {
   "cell_type": "markdown",
   "metadata": {},
   "source": [
    "# Performance analysis\n",
    "* roc_auc is 0.977\n",
    "* use \"grid search\" to find the optimization threshhold\n",
    "* the best threshold is 0.53\n"
   ]
  },
  {
   "cell_type": "code",
   "execution_count": 18,
   "metadata": {},
   "outputs": [],
   "source": [
    "X_eva = raw_data[-EVA_SIZE:]\n",
    "y_eva=keras.utils.to_categorical(new_match_list[-EVA_SIZE:])\n"
   ]
  },
  {
   "cell_type": "code",
   "execution_count": 19,
   "metadata": {},
   "outputs": [],
   "source": [
    "from sklearn.metrics import precision_score,f1_score"
   ]
  },
  {
   "cell_type": "code",
   "execution_count": 20,
   "metadata": {},
   "outputs": [],
   "source": [
    "result_prb = tree_model.predict_proba(X_eva)\n",
    "predict_classes = tree_model.predict(X_eva)"
   ]
  },
  {
   "cell_type": "code",
   "execution_count": 21,
   "metadata": {},
   "outputs": [
    {
     "data": {
      "text/plain": [
       "0.9613079019073569"
      ]
     },
     "execution_count": 21,
     "metadata": {},
     "output_type": "execute_result"
    }
   ],
   "source": [
    "precision_score(new_match_list[-EVA_SIZE:],predict_classes)"
   ]
  },
  {
   "cell_type": "code",
   "execution_count": 22,
   "metadata": {},
   "outputs": [
    {
     "data": {
      "text/plain": [
       "0.9676357652221612"
      ]
     },
     "execution_count": 22,
     "metadata": {},
     "output_type": "execute_result"
    }
   ],
   "source": [
    "f1_score(new_match_list[-EVA_SIZE:],predict_classes)"
   ]
  },
  {
   "cell_type": "code",
   "execution_count": 23,
   "metadata": {},
   "outputs": [],
   "source": [
    "## confusion mattix\n",
    "from sklearn.metrics import confusion_matrix\n",
    "\n",
    "tn, fp, fn, tp = confusion_matrix(new_match_list[-EVA_SIZE:],predict_classes).ravel()"
   ]
  },
  {
   "cell_type": "code",
   "execution_count": 24,
   "metadata": {},
   "outputs": [
    {
     "data": {
      "text/plain": [
       "(618, 71, 47, 1764)"
      ]
     },
     "execution_count": 24,
     "metadata": {},
     "output_type": "execute_result"
    }
   ],
   "source": [
    "(tn, fp, fn, tp)"
   ]
  },
  {
   "cell_type": "code",
   "execution_count": 25,
   "metadata": {},
   "outputs": [
    {
     "name": "stdout",
     "output_type": "stream",
     "text": [
      "0.9740474875759249 0.8969521044992743\n"
     ]
    },
    {
     "name": "stderr",
     "output_type": "stream",
     "text": [
      "/Library/Frameworks/Python.framework/Versions/3.7/lib/python3.7/site-packages/ipykernel_launcher.py:2: DeprecationWarning: Calling np.sum(generator) is deprecated, and in the future will give a different result. Use np.sum(np.fromiter(generator)) or the python sum builtin instead.\n",
      "  \n"
     ]
    }
   ],
   "source": [
    "tpr = tp/sum(new_match_list[-EVA_SIZE:])\n",
    "tnr = tn/sum(i==0 for i in new_match_list[-EVA_SIZE:])\n",
    "print(tpr,tnr)"
   ]
  },
  {
   "cell_type": "code",
   "execution_count": 26,
   "metadata": {
    "code_folding": [
     0
    ]
   },
   "outputs": [],
   "source": [
    "def TPR(x,y):\n",
    "    total = sum([v==1 for v in x ])\n",
    "    tp_count = 0\n",
    "    for i,v in enumerate(y) :\n",
    "        if v == 1 and x[i] == 1:\n",
    "            tp_count = tp_count + 1\n",
    "    return tp_count/total"
   ]
  },
  {
   "cell_type": "code",
   "execution_count": 27,
   "metadata": {
    "code_folding": [
     0
    ]
   },
   "outputs": [],
   "source": [
    "def TNR(x,y):\n",
    "    total = sum([v==0 for v in x ])\n",
    "    tp_count = 0\n",
    "    for i,v in enumerate(y) :\n",
    "        if v == 0 and x[i] == 0:\n",
    "            tp_count = tp_count + 1\n",
    "    return tp_count/total"
   ]
  },
  {
   "cell_type": "code",
   "execution_count": 28,
   "metadata": {
    "code_folding": [
     0
    ]
   },
   "outputs": [],
   "source": [
    "def PRE(x,y):\n",
    "    total = len(x)\n",
    "    tp_count = 0\n",
    "    for i,v in enumerate(y) :\n",
    "        if v == x[i]:\n",
    "            tp_count = tp_count + 1\n",
    "    return tp_count/total"
   ]
  },
  {
   "cell_type": "code",
   "execution_count": 29,
   "metadata": {},
   "outputs": [
    {
     "name": "stdout",
     "output_type": "stream",
     "text": [
      "PRE 0.9528\n",
      "TPR 0.9740474875759249\n",
      "TNR 0.8969521044992743\n"
     ]
    }
   ],
   "source": [
    "print(\"PRE\",PRE(new_match_list[-EVA_SIZE:],predict_classes))\n",
    "print(\"TPR\",TPR(new_match_list[-EVA_SIZE:],predict_classes))\n",
    "print(\"TNR\",TNR(new_match_list[-EVA_SIZE:],predict_classes))"
   ]
  },
  {
   "cell_type": "code",
   "execution_count": 30,
   "metadata": {},
   "outputs": [
    {
     "name": "stdout",
     "output_type": "stream",
     "text": [
      "positive 2089\n",
      "Score: 2.7748311199338986 TPR: 0.9983434566537824 TNR: 0.5921625544267054\n",
      "positive 2089\n",
      "Score: 2.7748311199338986 TPR: 0.9983434566537824 TNR: 0.5921625544267054\n",
      "positive 2089\n",
      "Score: 2.7748311199338986 TPR: 0.9983434566537824 TNR: 0.5921625544267054\n",
      "positive 2089\n",
      "Score: 2.7748311199338986 TPR: 0.9983434566537824 TNR: 0.5921625544267054\n",
      "positive 2089\n",
      "Score: 2.7748311199338986 TPR: 0.9983434566537824 TNR: 0.5921625544267054\n",
      "positive 2089\n",
      "Score: 2.7748311199338986 TPR: 0.9983434566537824 TNR: 0.5921625544267054\n",
      "positive 2089\n",
      "Score: 2.7748311199338986 TPR: 0.9983434566537824 TNR: 0.5921625544267054\n",
      "positive 2089\n",
      "Score: 2.7748311199338986 TPR: 0.9983434566537824 TNR: 0.5921625544267054\n",
      "positive 2089\n",
      "Score: 2.7748311199338986 TPR: 0.9983434566537824 TNR: 0.5921625544267054\n",
      "positive 2089\n",
      "Score: 2.7748311199338986 TPR: 0.9983434566537824 TNR: 0.5921625544267054\n",
      "positive 1999\n",
      "Score: 3.14217181087356 TPR: 0.9955825510767532 TNR: 0.7155297532656023\n",
      "positive 1999\n",
      "Score: 3.14217181087356 TPR: 0.9955825510767532 TNR: 0.7155297532656023\n",
      "positive 1999\n",
      "Score: 3.14217181087356 TPR: 0.9955825510767532 TNR: 0.7155297532656023\n",
      "positive 1999\n",
      "Score: 3.14217181087356 TPR: 0.9955825510767532 TNR: 0.7155297532656023\n",
      "positive 1999\n",
      "Score: 3.14217181087356 TPR: 0.9955825510767532 TNR: 0.7155297532656023\n",
      "positive 1999\n",
      "Score: 3.14217181087356 TPR: 0.9955825510767532 TNR: 0.7155297532656023\n",
      "positive 1999\n",
      "Score: 3.14217181087356 TPR: 0.9955825510767532 TNR: 0.7155297532656023\n",
      "positive 1999\n",
      "Score: 3.14217181087356 TPR: 0.9955825510767532 TNR: 0.7155297532656023\n",
      "positive 1999\n",
      "Score: 3.14217181087356 TPR: 0.9955825510767532 TNR: 0.7155297532656023\n",
      "positive 1946\n",
      "Score: 3.3238778661926505 TPR: 0.9900607399226946 TNR: 0.7779390420899854\n",
      "positive 1946\n",
      "Score: 3.3238778661926505 TPR: 0.9900607399226946 TNR: 0.7779390420899854\n",
      "positive 1945\n",
      "Score: 3.3282320026222596 TPR: 0.9900607399226946 TNR: 0.7793904208998549\n",
      "positive 1945\n",
      "Score: 3.3282320026222596 TPR: 0.9900607399226946 TNR: 0.7793904208998549\n",
      "positive 1943\n",
      "Score: 3.336940275481475 TPR: 0.9900607399226946 TNR: 0.7822931785195936\n",
      "positive 1943\n",
      "Score: 3.336940275481475 TPR: 0.9900607399226946 TNR: 0.7822931785195936\n",
      "positive 1942\n",
      "Score: 3.3412944119110835 TPR: 0.9900607399226946 TNR: 0.783744557329463\n",
      "positive 1942\n",
      "Score: 3.3412944119110835 TPR: 0.9900607399226946 TNR: 0.783744557329463\n",
      "positive 1942\n",
      "Score: 3.3412944119110835 TPR: 0.9900607399226946 TNR: 0.783744557329463\n",
      "positive 1942\n",
      "Score: 3.3412944119110835 TPR: 0.9900607399226946 TNR: 0.783744557329463\n",
      "positive 1893\n",
      "Score: 3.4957712864217143 TPR: 0.9834345665378245 TNR: 0.8374455732946299\n",
      "positive 1893\n",
      "Score: 3.4957712864217143 TPR: 0.9834345665378245 TNR: 0.8374455732946299\n",
      "positive 1893\n",
      "Score: 3.4957712864217143 TPR: 0.9834345665378245 TNR: 0.8374455732946299\n",
      "positive 1893\n",
      "Score: 3.4957712864217143 TPR: 0.9834345665378245 TNR: 0.8374455732946299\n",
      "positive 1893\n",
      "Score: 3.4957712864217143 TPR: 0.9834345665378245 TNR: 0.8374455732946299\n",
      "positive 1893\n",
      "Score: 3.4957712864217143 TPR: 0.9834345665378245 TNR: 0.8374455732946299\n",
      "positive 1893\n",
      "Score: 3.4957712864217143 TPR: 0.9834345665378245 TNR: 0.8374455732946299\n",
      "positive 1893\n",
      "Score: 3.4957712864217143 TPR: 0.9834345665378245 TNR: 0.8374455732946299\n",
      "positive 1893\n",
      "Score: 3.4957712864217143 TPR: 0.9834345665378245 TNR: 0.8374455732946299\n",
      "positive 1892\n",
      "Score: 3.495219105306308 TPR: 0.9828823854224186 TNR: 0.8374455732946299\n",
      "for best threshold is  0.38\n"
     ]
    }
   ],
   "source": [
    "# Use Grid Search\n",
    "max_score = -1\n",
    "score_list = []\n",
    "for th in np.arange(0.01,1,0.01):\n",
    "    predict_classes_with_th  = (result_prb[:,1]>th).astype('int')\n",
    "    print(\"positive\",predict_classes_with_th.sum())\n",
    "    score = TPR(\n",
    "        new_match_list[-EVA_SIZE:],predict_classes_with_th) + TNR(\n",
    "        new_match_list[-EVA_SIZE:],predict_classes_with_th)*3\n",
    "\n",
    "    print(\"Score:\",score, \n",
    "          \"TPR:\",TPR(new_match_list[-EVA_SIZE:],predict_classes_with_th),\n",
    "          \"TNR:\",TNR(new_match_list[-EVA_SIZE:],predict_classes_with_th))\n",
    "    if score >= max_score : \n",
    "        max_score = score\n",
    "    \n",
    "    else :\n",
    "        break\n",
    "        \n",
    "    score_list.append(score)\n",
    "best_th = th - 0.01\n",
    "# So the threshold is ? , for TPR + TNR*3\n",
    "print(\"for best threshold is \" , th - 0.01)"
   ]
  },
  {
   "cell_type": "code",
   "execution_count": 31,
   "metadata": {},
   "outputs": [],
   "source": [
    "from sklearn.metrics import roc_curve,roc_auc_score\n",
    "## ROC Cuve , I think the normal case , usually is \"F1Score\"\n",
    "fpr, tpr, thresholds = roc_curve(new_match_list[-EVA_SIZE:], result_prb[:,1])\n"
   ]
  },
  {
   "cell_type": "code",
   "execution_count": 32,
   "metadata": {
    "code_folding": []
   },
   "outputs": [],
   "source": [
    "# and see roc cuve area "
   ]
  },
  {
   "cell_type": "code",
   "execution_count": 33,
   "metadata": {},
   "outputs": [
    {
     "data": {
      "image/png": "[encoded data removed]",
      "text/plain": [
       "<Figure size 432x288 with 1 Axes>"
      ]
     },
     "metadata": {
      "image/png": {
       "height": 258,
       "width": 383
      },
      "needs_background": "light"
     },
     "output_type": "display_data"
    }
   ],
   "source": [
    "\n",
    "plt.plot(fpr,tpr)\n",
    "plt.xlabel('False positive rate')\n",
    "plt.ylabel('True positive rate')\n",
    "plt.show()\n"
   ]
  },
  {
   "cell_type": "markdown",
   "metadata": {},
   "source": [
    "## ROC_AUC score is a good metric to measure the peformance"
   ]
  },
  {
   "cell_type": "code",
   "execution_count": 34,
   "metadata": {},
   "outputs": [
    {
     "data": {
      "text/plain": [
       "0.9827830088501248"
      ]
     },
     "execution_count": 34,
     "metadata": {},
     "output_type": "execute_result"
    }
   ],
   "source": [
    "roc_auc_score(new_match_list[-EVA_SIZE:], result_prb[:,1])"
   ]
  },
  {
   "cell_type": "markdown",
   "metadata": {},
   "source": [
    "# DO testing"
   ]
  },
  {
   "cell_type": "code",
   "execution_count": 35,
   "metadata": {},
   "outputs": [
    {
     "data": {
      "text/html": [
       "<div>\n",
       "<style scoped>\n",
       "    .dataframe tbody tr th:only-of-type {\n",
       "        vertical-align: middle;\n",
       "    }\n",
       "\n",
       "    .dataframe tbody tr th {\n",
       "        vertical-align: top;\n",
       "    }\n",
       "\n",
       "    .dataframe thead th {\n",
       "        text-align: right;\n",
       "    }\n",
       "</style>\n",
       "<table border=\"1\" class=\"dataframe\">\n",
       "  <thead>\n",
       "    <tr style=\"text-align: right;\">\n",
       "      <th></th>\n",
       "      <th>name_levenshtein_simple</th>\n",
       "      <th>name_trigram_simple</th>\n",
       "      <th>name_levenshtein_term</th>\n",
       "      <th>name_trigram_term</th>\n",
       "    </tr>\n",
       "  </thead>\n",
       "  <tbody>\n",
       "    <tr>\n",
       "      <td>count</td>\n",
       "      <td>6230.000000</td>\n",
       "      <td>6230.000000</td>\n",
       "      <td>6230.000000</td>\n",
       "      <td>6230.000000</td>\n",
       "    </tr>\n",
       "    <tr>\n",
       "      <td>mean</td>\n",
       "      <td>0.617670</td>\n",
       "      <td>0.550384</td>\n",
       "      <td>0.521490</td>\n",
       "      <td>0.493838</td>\n",
       "    </tr>\n",
       "    <tr>\n",
       "      <td>std</td>\n",
       "      <td>0.309591</td>\n",
       "      <td>0.372656</td>\n",
       "      <td>0.329626</td>\n",
       "      <td>0.375572</td>\n",
       "    </tr>\n",
       "    <tr>\n",
       "      <td>min</td>\n",
       "      <td>0.000000</td>\n",
       "      <td>0.000000</td>\n",
       "      <td>0.000000</td>\n",
       "      <td>0.000000</td>\n",
       "    </tr>\n",
       "    <tr>\n",
       "      <td>25%</td>\n",
       "      <td>0.342857</td>\n",
       "      <td>0.172577</td>\n",
       "      <td>0.225806</td>\n",
       "      <td>0.120000</td>\n",
       "    </tr>\n",
       "    <tr>\n",
       "      <td>50%</td>\n",
       "      <td>0.666667</td>\n",
       "      <td>0.591837</td>\n",
       "      <td>0.448276</td>\n",
       "      <td>0.450806</td>\n",
       "    </tr>\n",
       "    <tr>\n",
       "      <td>75%</td>\n",
       "      <td>1.000000</td>\n",
       "      <td>1.000000</td>\n",
       "      <td>0.865116</td>\n",
       "      <td>1.000000</td>\n",
       "    </tr>\n",
       "    <tr>\n",
       "      <td>max</td>\n",
       "      <td>1.000000</td>\n",
       "      <td>1.000000</td>\n",
       "      <td>1.000000</td>\n",
       "      <td>1.000000</td>\n",
       "    </tr>\n",
       "  </tbody>\n",
       "</table>\n",
       "</div>"
      ],
      "text/plain": [
       "       name_levenshtein_simple  name_trigram_simple  name_levenshtein_term  \\\n",
       "count              6230.000000          6230.000000            6230.000000   \n",
       "mean                  0.617670             0.550384               0.521490   \n",
       "std                   0.309591             0.372656               0.329626   \n",
       "min                   0.000000             0.000000               0.000000   \n",
       "25%                   0.342857             0.172577               0.225806   \n",
       "50%                   0.666667             0.591837               0.448276   \n",
       "75%                   1.000000             1.000000               0.865116   \n",
       "max                   1.000000             1.000000               1.000000   \n",
       "\n",
       "       name_trigram_term  \n",
       "count        6230.000000  \n",
       "mean            0.493838  \n",
       "std             0.375572  \n",
       "min             0.000000  \n",
       "25%             0.120000  \n",
       "50%             0.450806  \n",
       "75%             1.000000  \n",
       "max             1.000000  "
      ]
     },
     "execution_count": 35,
     "metadata": {},
     "output_type": "execute_result"
    }
   ],
   "source": [
    "test_df = pd.read_csv(\"./address_matching_test.csv\")\n",
    "test_df.describe()"
   ]
  },
  {
   "cell_type": "code",
   "execution_count": 36,
   "metadata": {},
   "outputs": [
    {
     "name": "stdout",
     "output_type": "stream",
     "text": [
      "id 0.0\n",
      "name_levenshtein_simple 0.0\n",
      "name_trigram_simple 0.0\n",
      "name_levenshtein_term 0.0\n",
      "name_trigram_term 0.0\n",
      "city_levenshtein_simple 0.64\n",
      "city_trigram_simple 0.64\n",
      "city_levenshtein_term 0.64\n",
      "city_trigram_term 0.64\n",
      "zip_levenshtein_simple 0.73\n",
      "zip_trigram_simple 0.73\n",
      "zip_levenshtein_term 0.73\n",
      "zip_trigram_term 0.73\n",
      "street_levenshtein_simple 0.71\n",
      "street_trigram_simple 0.71\n",
      "street_levenshtein_term 0.71\n",
      "street_trigram_term 0.71\n",
      "website_levenshtein_simple 0.94\n",
      "website_trigram_simple 0.94\n",
      "website_levenshtein_term 0.94\n",
      "website_trigram_term 0.94\n",
      "phone_levenshtein 0.59\n",
      "phone_trigram 0.59\n",
      "fax_levenshtein 0.97\n",
      "fax_trigram 0.97\n",
      "street_number_levenshtein 0.34\n",
      "street_number_trigram 0.34\n",
      "phone_equality 0.0\n",
      "fax_equality 0.0\n",
      "street_number_equality 0.0\n"
     ]
    },
    {
     "name": "stderr",
     "output_type": "stream",
     "text": [
      "/Library/Frameworks/Python.framework/Versions/3.7/lib/python3.7/site-packages/pandas/core/ops/__init__.py:1115: FutureWarning: elementwise comparison failed; returning scalar instead, but in the future will perform elementwise comparison\n",
      "  result = method(y)\n"
     ]
    }
   ],
   "source": [
    "# miss value rate\n",
    "for c in test_df.columns:\n",
    "    print(c,str(sum(test_df[c]=='?')/6230)[:4])"
   ]
  },
  {
   "cell_type": "code",
   "execution_count": 37,
   "metadata": {},
   "outputs": [
    {
     "name": "stdout",
     "output_type": "stream",
     "text": [
      "del phone_equality\n",
      "del fax_equality\n",
      "del street_number_equality\n"
     ]
    }
   ],
   "source": [
    "for c in test_df.columns:\n",
    "    if 'equality' in c : \n",
    "        print(\"del\",c)\n",
    "        del test_df[c]"
   ]
  },
  {
   "cell_type": "code",
   "execution_count": 38,
   "metadata": {},
   "outputs": [
    {
     "name": "stdout",
     "output_type": "stream",
     "text": [
      "id 0.0\n",
      "name_levenshtein_simple 0.0\n",
      "name_trigram_simple 0.0\n",
      "name_levenshtein_term 0.0\n",
      "name_trigram_term 0.0\n",
      "city_levenshtein_simple 0.0\n",
      "city_trigram_simple 0.0\n",
      "city_levenshtein_term 0.0\n",
      "city_trigram_term 0.0\n",
      "zip_levenshtein_simple 0.0\n",
      "zip_trigram_simple 0.0\n",
      "zip_levenshtein_term 0.0\n",
      "zip_trigram_term 0.0\n",
      "street_levenshtein_simple 0.0\n",
      "street_trigram_simple 0.0\n",
      "street_levenshtein_term 0.0\n",
      "street_trigram_term 0.0\n",
      "website_levenshtein_simple 0.0\n",
      "website_trigram_simple 0.0\n",
      "website_levenshtein_term 0.0\n",
      "website_trigram_term 0.0\n",
      "phone_levenshtein 0.0\n",
      "phone_trigram 0.0\n",
      "fax_levenshtein 0.0\n",
      "fax_trigram 0.0\n",
      "street_number_levenshtein 0.0\n",
      "street_number_trigram 0.0\n"
     ]
    }
   ],
   "source": [
    "new_test_df = test_df.replace(\"?\",-1)\n",
    "for c in new_test_df.columns:\n",
    "    print(c,str(sum(new_test_df[c]=='?')/6230)[:4])"
   ]
  },
  {
   "cell_type": "code",
   "execution_count": 39,
   "metadata": {},
   "outputs": [],
   "source": [
    "# keep id list and remove it from test_df\n",
    "id_test_list = new_test_df['id'].tolist()\n",
    "del new_test_df['id']"
   ]
  },
  {
   "cell_type": "code",
   "execution_count": 40,
   "metadata": {},
   "outputs": [],
   "source": [
    "raw_test_data = new_test_df.to_numpy()\n",
    "X_test = raw_test_data"
   ]
  },
  {
   "cell_type": "code",
   "execution_count": 41,
   "metadata": {},
   "outputs": [],
   "source": [
    "# use model to predict the testing data\n",
    "test_result = tree_model.predict(X_test)"
   ]
  },
  {
   "cell_type": "code",
   "execution_count": 42,
   "metadata": {},
   "outputs": [],
   "source": [
    "resut_df =  pd.DataFrame(test_result)"
   ]
  },
  {
   "cell_type": "code",
   "execution_count": 43,
   "metadata": {},
   "outputs": [
    {
     "data": {
      "text/html": [
       "<div>\n",
       "<style scoped>\n",
       "    .dataframe tbody tr th:only-of-type {\n",
       "        vertical-align: middle;\n",
       "    }\n",
       "\n",
       "    .dataframe tbody tr th {\n",
       "        vertical-align: top;\n",
       "    }\n",
       "\n",
       "    .dataframe thead th {\n",
       "        text-align: right;\n",
       "    }\n",
       "</style>\n",
       "<table border=\"1\" class=\"dataframe\">\n",
       "  <thead>\n",
       "    <tr style=\"text-align: right;\">\n",
       "      <th></th>\n",
       "      <th>0</th>\n",
       "    </tr>\n",
       "  </thead>\n",
       "  <tbody>\n",
       "    <tr>\n",
       "      <td>count</td>\n",
       "      <td>6230.000000</td>\n",
       "    </tr>\n",
       "    <tr>\n",
       "      <td>mean</td>\n",
       "      <td>0.694703</td>\n",
       "    </tr>\n",
       "    <tr>\n",
       "      <td>std</td>\n",
       "      <td>0.460570</td>\n",
       "    </tr>\n",
       "    <tr>\n",
       "      <td>min</td>\n",
       "      <td>0.000000</td>\n",
       "    </tr>\n",
       "    <tr>\n",
       "      <td>25%</td>\n",
       "      <td>0.000000</td>\n",
       "    </tr>\n",
       "    <tr>\n",
       "      <td>50%</td>\n",
       "      <td>1.000000</td>\n",
       "    </tr>\n",
       "    <tr>\n",
       "      <td>75%</td>\n",
       "      <td>1.000000</td>\n",
       "    </tr>\n",
       "    <tr>\n",
       "      <td>max</td>\n",
       "      <td>1.000000</td>\n",
       "    </tr>\n",
       "  </tbody>\n",
       "</table>\n",
       "</div>"
      ],
      "text/plain": [
       "                 0\n",
       "count  6230.000000\n",
       "mean      0.694703\n",
       "std       0.460570\n",
       "min       0.000000\n",
       "25%       0.000000\n",
       "50%       1.000000\n",
       "75%       1.000000\n",
       "max       1.000000"
      ]
     },
     "execution_count": 43,
     "metadata": {},
     "output_type": "execute_result"
    }
   ],
   "source": [
    "resut_df.describe()"
   ]
  },
  {
   "cell_type": "code",
   "execution_count": null,
   "metadata": {},
   "outputs": [],
   "source": [
    "# testing data , predict result is as below\n",
    "answer = list( zip(id_test_list,(test_result[:,1]>best_th).astype(int).tolist()))"
   ]
  },
  {
   "cell_type": "code",
   "execution_count": null,
   "metadata": {},
   "outputs": [],
   "source": [
    "pd.DataFrame(answer).describe()"
   ]
  },
  {
   "cell_type": "markdown",
   "metadata": {},
   "source": [
    "# Potential improvements\n",
    "* ensemble methodology\n",
    "* becasue fale positive rate is also import to operater. so in real case and production env , we need to build a doubel check mechanism\n",
    "* strong rule, such as decision tree . this algorithm could produce the human readable result and rule that help our user to understnad the system behavior.\n"
   ]
  },
  {
   "cell_type": "markdown",
   "metadata": {},
   "source": [
    "# Conclusion \n",
    "* this is a very good challenge to test a data scientist.\n",
    "* i just build only one model , but i think is so far so good as baseline model.\n"
   ]
  },
  {
   "cell_type": "code",
   "execution_count": null,
   "metadata": {},
   "outputs": [],
   "source": []
  }
 ],
 "metadata": {
  "hide_input": false,
  "kernelspec": {
   "display_name": "Python 3",
   "language": "python",
   "name": "python3"
  },
  "language_info": {
   "codemirror_mode": {
    "name": "ipython",
    "version": 3
   },
   "file_extension": ".py",
   "mimetype": "text/x-python",
   "name": "python",
   "nbconvert_exporter": "python",
   "pygments_lexer": "ipython3",
   "version": "3.7.4"
  }
 },
 "nbformat": 4,
 "nbformat_minor": 2
}
